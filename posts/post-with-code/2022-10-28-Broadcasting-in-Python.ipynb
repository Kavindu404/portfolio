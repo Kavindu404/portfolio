{
 "cells": [
  {
   "cell_type": "markdown",
   "id": "6a9467c0",
   "metadata": {},
   "source": [
    "# Broadcasting"
   ]
  },
  {
   "cell_type": "markdown",
   "id": "f6ebe6c3",
   "metadata": {},
   "source": [
    "In this blog, I am going to breakdown the idea of broadcasting in python. Broadcasting is one of the main concepts that you should know about to get the best out of deep learning frameworks. Let's see what is it."
   ]
  },
  {
   "cell_type": "markdown",
   "id": "66271707",
   "metadata": {},
   "source": [
    "To start with, say you have two variables, x and y as below;"
   ]
  },
  {
   "cell_type": "code",
   "execution_count": 7,
   "id": "d13292e5",
   "metadata": {},
   "outputs": [],
   "source": [
    "x = torch.tensor(10)\n",
    "y = torch.tensor([100,200,300])"
   ]
  },
  {
   "cell_type": "markdown",
   "id": "a3d24fef",
   "metadata": {},
   "source": [
    "Now, let's say, you want to add x for each element in y. So we can simply do as follows;"
   ]
  },
  {
   "cell_type": "code",
   "execution_count": 8,
   "id": "33fc82a1",
   "metadata": {},
   "outputs": [
    {
     "data": {
      "text/plain": [
       "tensor([110, 210, 310])"
      ]
     },
     "execution_count": 8,
     "metadata": {},
     "output_type": "execute_result"
    }
   ],
   "source": [
    "z = x + y;z"
   ]
  },
  {
   "cell_type": "markdown",
   "id": "93878971",
   "metadata": {},
   "source": [
    "But, how does this actually work? x is just a scalar and we just add that into a tensor. This is done with the help of broadcasting. Let's see how it work under the hood. Say we have two tensors, a and b as below;"
   ]
  },
  {
   "cell_type": "code",
   "execution_count": 11,
   "id": "e042d48f",
   "metadata": {},
   "outputs": [
    {
     "data": {
      "text/plain": [
       "(tensor([1., 2., 3.]),\n",
       " tensor([[10., 20., 30.],\n",
       "         [40., 50., 60.]]))"
      ]
     },
     "execution_count": 11,
     "metadata": {},
     "output_type": "execute_result"
    }
   ],
   "source": [
    "a = torch.tensor([1., 2, 3])\n",
    "b = torch.tensor([[10.,20,30],\n",
    "                  [40,50,60]])\n",
    "a,b"
   ]
  },
  {
   "cell_type": "code",
   "execution_count": 12,
   "id": "69af6786",
   "metadata": {},
   "outputs": [
    {
     "data": {
      "text/plain": [
       "(torch.Size([3]), torch.Size([2, 3]))"
      ]
     },
     "execution_count": 12,
     "metadata": {},
     "output_type": "execute_result"
    }
   ],
   "source": [
    "a.shape, b.shape"
   ]
  },
  {
   "cell_type": "markdown",
   "id": "958d0530",
   "metadata": {},
   "source": [
    "Let's see what happen if we add them up ..."
   ]
  },
  {
   "cell_type": "code",
   "execution_count": 13,
   "id": "8429b6f2",
   "metadata": {},
   "outputs": [
    {
     "data": {
      "text/plain": [
       "tensor([[11., 22., 33.],\n",
       "        [41., 52., 63.]])"
      ]
     },
     "execution_count": 13,
     "metadata": {},
     "output_type": "execute_result"
    }
   ],
   "source": [
    "c = a + b;c"
   ]
  },
  {
   "cell_type": "code",
   "execution_count": 14,
   "id": "4751ae82",
   "metadata": {},
   "outputs": [
    {
     "data": {
      "text/plain": [
       "torch.Size([2, 3])"
      ]
     },
     "execution_count": 14,
     "metadata": {},
     "output_type": "execute_result"
    }
   ],
   "source": [
    "c.shape"
   ]
  },
  {
   "cell_type": "markdown",
   "id": "d34ef498",
   "metadata": {},
   "source": [
    "So, what actually happened is, pytorch done broadcasting on tensor a to get it to the same size as b and then done element wise multiplication. In other words, first, pytorch has expanded a to match the dimensions of b and then done the element wise multiplication as shown below;"
   ]
  },
  {
   "cell_type": "code",
   "execution_count": 16,
   "id": "f1f955e2",
   "metadata": {},
   "outputs": [
    {
     "data": {
      "text/plain": [
       "tensor([[1., 2., 3.],\n",
       "        [1., 2., 3.]])"
      ]
     },
     "execution_count": 16,
     "metadata": {},
     "output_type": "execute_result"
    }
   ],
   "source": [
    "a.expand_as(b)"
   ]
  },
  {
   "cell_type": "markdown",
   "id": "1f1fceee",
   "metadata": {},
   "source": [
    "See? we just replicate the tensor a to match it to the dimensions of tensor b. But, one may ask, how come this so useful if it gonna fill up the memory with the copiesof the same data right? The answer is it does not copy the same data to the memory. It only contains the original data that we given in the initialization. "
   ]
  },
  {
   "cell_type": "code",
   "execution_count": 17,
   "id": "8e9389b4",
   "metadata": {},
   "outputs": [
    {
     "data": {
      "text/plain": [
       " 1.0\n",
       " 2.0\n",
       " 3.0\n",
       "[torch.storage._TypedStorage(dtype=torch.float32, device=cpu) of size 3]"
      ]
     },
     "execution_count": 17,
     "metadata": {},
     "output_type": "execute_result"
    }
   ],
   "source": [
    "a.storage()"
   ]
  },
  {
   "cell_type": "markdown",
   "id": "c003375b",
   "metadata": {},
   "source": [
    "Like that, it only contains the initial data we given. Then how does it perform the broadcasting? Well, the pytorch use a neat trick with strides to copy elements in the memory to get the matching dimentions. "
   ]
  },
  {
   "cell_type": "code",
   "execution_count": 21,
   "id": "bf23127b",
   "metadata": {},
   "outputs": [
    {
     "data": {
      "text/plain": [
       "(tensor([[1., 2., 3.],\n",
       "         [1., 2., 3.]]),\n",
       " torch.Size([2, 3]))"
      ]
     },
     "execution_count": 21,
     "metadata": {},
     "output_type": "execute_result"
    }
   ],
   "source": [
    "w = a.expand_as(b)\n",
    "w, w.shape"
   ]
  },
  {
   "cell_type": "code",
   "execution_count": 22,
   "id": "5e053865",
   "metadata": {},
   "outputs": [
    {
     "data": {
      "text/plain": [
       "(0, 1)"
      ]
     },
     "execution_count": 22,
     "metadata": {},
     "output_type": "execute_result"
    }
   ],
   "source": [
    "w.stride()"
   ]
  },
  {
   "cell_type": "markdown",
   "id": "e9b01fdc",
   "metadata": {},
   "source": [
    "What does this mean? So, when we initialized tensor a at the beginning, the values 1, 2, and 3 are put into adjacent memory cells. The stride shows the way we should fill up the positions in the target dimensions. The first element refers to axis 0 and the second element refers to axis 1. So, 1 in (0,1) means, skip one memory location at a time to get to the next column whereas 0 in (0,1) means that we do not skip memory locations in dimension 0, i.e., raw wise. "
   ]
  },
  {
   "cell_type": "markdown",
   "id": "0c465551",
   "metadata": {},
   "source": [
    "So, how can we get a higher dimensional array from a lower dimensional one? Well, there are two ways to do that. The first is to use unsqueeze(dim) and the second is to index our initial tensor with [None]. "
   ]
  },
  {
   "cell_type": "code",
   "execution_count": 25,
   "id": "debf2524",
   "metadata": {},
   "outputs": [
    {
     "data": {
      "text/plain": [
       "(tensor([1., 2., 3.]), torch.Size([3]))"
      ]
     },
     "execution_count": 25,
     "metadata": {},
     "output_type": "execute_result"
    }
   ],
   "source": [
    "a, a.shape"
   ]
  },
  {
   "cell_type": "code",
   "execution_count": 26,
   "id": "0b5f08cd",
   "metadata": {},
   "outputs": [
    {
     "data": {
      "text/plain": [
       "(tensor([[1., 2., 3.]]), tensor([[1., 2., 3.]]))"
      ]
     },
     "execution_count": 26,
     "metadata": {},
     "output_type": "execute_result"
    }
   ],
   "source": [
    "a.unsqueeze(0), a[None,:]"
   ]
  },
  {
   "cell_type": "code",
   "execution_count": 27,
   "id": "5d847612",
   "metadata": {},
   "outputs": [
    {
     "data": {
      "text/plain": [
       "(torch.Size([1, 3]), torch.Size([1, 3]))"
      ]
     },
     "execution_count": 27,
     "metadata": {},
     "output_type": "execute_result"
    }
   ],
   "source": [
    "a.unsqueeze(0).shape, a[None,:].shape"
   ]
  },
  {
   "cell_type": "markdown",
   "id": "8f228c0b",
   "metadata": {},
   "source": [
    "We can always skip trailing ':'s and you will see that in many cases. Furthermore, we can use '...' to imply all the preceding dimensions"
   ]
  },
  {
   "cell_type": "code",
   "execution_count": 28,
   "id": "eba5c021",
   "metadata": {},
   "outputs": [
    {
     "data": {
      "text/plain": [
       "(torch.Size([1, 3]), tensor([1., 2., 3.]))"
      ]
     },
     "execution_count": 28,
     "metadata": {},
     "output_type": "execute_result"
    }
   ],
   "source": [
    "a[None].shape, a"
   ]
  },
  {
   "cell_type": "code",
   "execution_count": 29,
   "id": "6533e07a",
   "metadata": {},
   "outputs": [
    {
     "data": {
      "text/plain": [
       "(torch.Size([3, 1]), tensor([1., 2., 3.]))"
      ]
     },
     "execution_count": 29,
     "metadata": {},
     "output_type": "execute_result"
    }
   ],
   "source": [
    "a[...,None].shape, a"
   ]
  },
  {
   "cell_type": "markdown",
   "id": "227bb409",
   "metadata": {},
   "source": [
    "As you see, we can expand the dimensions easily. The argument we pass into unsqueeze() is the position of the nex axis we want to add."
   ]
  },
  {
   "cell_type": "markdown",
   "id": "b6852122",
   "metadata": {},
   "source": [
    "However, there are certain rules associated with tensor operations;\n",
    "- Two tensors are compatible to perform tensor operations if their dimensions, starting from right to left;\n",
    "  - equal or\n",
    "  - one of them is one in which case we use **broadcasting** to get that one to the same dimension "
   ]
  },
  {
   "cell_type": "markdown",
   "id": "d0ec9083",
   "metadata": {},
   "source": [
    "And that's a wrap! Hope you were able to understand the concept of broadcasting a little more intuitively."
   ]
  }
 ],
 "metadata": {
  "kernelspec": {
   "display_name": "Python 3 (ipykernel)",
   "language": "python",
   "name": "python3"
  },
  "language_info": {
   "codemirror_mode": {
    "name": "ipython",
    "version": 3
   },
   "file_extension": ".py",
   "mimetype": "text/x-python",
   "name": "python",
   "nbconvert_exporter": "python",
   "pygments_lexer": "ipython3",
   "version": "3.8.10"
  }
 },
 "nbformat": 4,
 "nbformat_minor": 5
}
