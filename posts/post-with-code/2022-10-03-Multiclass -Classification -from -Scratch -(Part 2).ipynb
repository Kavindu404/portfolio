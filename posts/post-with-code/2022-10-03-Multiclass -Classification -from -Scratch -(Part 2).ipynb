{
 "cells": [
  {
   "cell_type": "markdown",
   "id": "8a55e463",
   "metadata": {},
   "source": [
    "Date: 25/07/2022\n",
    "\n",
    "Author: @kavindu404"
   ]
  },
  {
   "cell_type": "markdown",
   "id": "681bb582",
   "metadata": {},
   "source": [
    "# Multi Class Classification From Scratch (Part 2)"
   ]
  },
  {
   "cell_type": "markdown",
   "id": "216d0ea1",
   "metadata": {},
   "source": [
    "Welcome to part 2 of the mini blog series on multi class classification from scratch. In first part, we used pixel similarity to predict the class of the digit. In this one, we will be building a simple neural network from scratch. Same as the last one, we start with importing fastai vision library and stacking up the data w.r.t classes like we did in the previous part."
   ]
  },
  {
   "cell_type": "code",
   "execution_count": 2,
   "id": "6e6e759b",
   "metadata": {},
   "outputs": [],
   "source": [
    "from fastai.vision.all import *"
   ]
  },
  {
   "cell_type": "code",
   "execution_count": 3,
   "id": "e63b7339",
   "metadata": {},
   "outputs": [
    {
     "data": {
      "text/html": [
       "\n",
       "<style>\n",
       "    /* Turns off some styling */\n",
       "    progress {\n",
       "        /* gets rid of default border in Firefox and Opera. */\n",
       "        border: none;\n",
       "        /* Needs to be in here for Safari polyfill so background images work as expected. */\n",
       "        background-size: auto;\n",
       "    }\n",
       "    progress:not([value]), progress:not([value])::-webkit-progress-bar {\n",
       "        background: repeating-linear-gradient(45deg, #7e7e7e, #7e7e7e 10px, #5c5c5c 10px, #5c5c5c 20px);\n",
       "    }\n",
       "    .progress-bar-interrupted, .progress-bar-interrupted::-webkit-progress-bar {\n",
       "        background: #F44336;\n",
       "    }\n",
       "</style>\n"
      ],
      "text/plain": [
       "<IPython.core.display.HTML object>"
      ]
     },
     "metadata": {},
     "output_type": "display_data"
    },
    {
     "data": {
      "text/html": [
       "\n",
       "    <div>\n",
       "      <progress value='15687680' class='' max='15683414' style='width:300px; height:20px; vertical-align: middle;'></progress>\n",
       "      100.03% [15687680/15683414 00:01&lt;00:00]\n",
       "    </div>\n",
       "    "
      ],
      "text/plain": [
       "<IPython.core.display.HTML object>"
      ]
     },
     "metadata": {},
     "output_type": "display_data"
    },
    {
     "data": {
      "text/plain": [
       "(#2) [Path('training'),Path('testing')]"
      ]
     },
     "execution_count": 3,
     "metadata": {},
     "output_type": "execute_result"
    }
   ],
   "source": [
    "path = untar_data(URLs.MNIST)\n",
    "Path.BASE_PATH = path\n",
    "path.ls()"
   ]
  },
  {
   "cell_type": "code",
   "execution_count": 4,
   "id": "dbc64c73",
   "metadata": {},
   "outputs": [],
   "source": [
    "zeros = (path/'training'/'0').ls().sorted()\n",
    "ones = (path/'training'/'1').ls().sorted()\n",
    "twos = (path/'training'/'2').ls().sorted()\n",
    "threes = (path/'training'/'3').ls().sorted()\n",
    "fours = (path/'training'/'4').ls().sorted()\n",
    "fives = (path/'training'/'5').ls().sorted()\n",
    "sixes = (path/'training'/'6').ls().sorted()\n",
    "sevens = (path/'training'/'7').ls().sorted()\n",
    "eights = (path/'training'/'8').ls().sorted()\n",
    "nines = (path/'training'/'9').ls().sorted()"
   ]
  },
  {
   "cell_type": "code",
   "execution_count": 5,
   "id": "77987917",
   "metadata": {},
   "outputs": [],
   "source": [
    "stacked_zeros = torch.stack([tensor(Image.open(o)) for o in zeros]).float()/255\n",
    "stacked_ones = torch.stack([tensor(Image.open(o)) for o in ones]).float()/255\n",
    "stacked_twos = torch.stack([tensor(Image.open(o)) for o in twos]).float()/255\n",
    "stacked_threes = torch.stack([tensor(Image.open(o)) for o in threes]).float()/255\n",
    "stacked_fours = torch.stack([tensor(Image.open(o)) for o in fours]).float()/255\n",
    "stacked_fives = torch.stack([tensor(Image.open(o)) for o in fives]).float()/255\n",
    "stacked_sixes = torch.stack([tensor(Image.open(o)) for o in sixes]).float()/255\n",
    "stacked_sevens = torch.stack([tensor(Image.open(o)) for o in sevens]).float()/255\n",
    "stacked_eights = torch.stack([tensor(Image.open(o)) for o in eights]).float()/255\n",
    "stacked_nines = torch.stack([tensor(Image.open(o)) for o in nines]).float()/255"
   ]
  },
  {
   "cell_type": "code",
   "execution_count": 6,
   "id": "20256259",
   "metadata": {},
   "outputs": [
    {
     "data": {
      "text/plain": [
       "(torch.Size([60000, 784]), torch.Size([60000, 1]))"
      ]
     },
     "execution_count": 6,
     "metadata": {},
     "output_type": "execute_result"
    }
   ],
   "source": [
    "train_x = torch.cat([stacked_zeros, stacked_ones, stacked_twos, stacked_threes, stacked_fours, stacked_fives, stacked_sixes, stacked_sevens, stacked_eights, stacked_nines]).view(-1, 28*28)\n",
    "train_y = tensor([0]*len(zeros)+[1]*len(ones)+[2]*len(twos)+[3]*len(threes)+[4]*len(fours)+[5]*len(fives)+[6]*len(sixes)+[7]*len(sevens)+[8]*len(eights)+[9]*len(nines)).unsqueeze(1)\n",
    "train_x.shape, train_y.shape"
   ]
  },
  {
   "cell_type": "markdown",
   "id": "876372d5",
   "metadata": {},
   "source": [
    "Here, we create a dataset by coupling the image with its label. We do the same for the validation set."
   ]
  },
  {
   "cell_type": "code",
   "execution_count": 7,
   "id": "06516daf",
   "metadata": {},
   "outputs": [
    {
     "data": {
      "text/plain": [
       "(torch.Size([784]), torch.Size([1]))"
      ]
     },
     "execution_count": 7,
     "metadata": {},
     "output_type": "execute_result"
    }
   ],
   "source": [
    "train_dset = list(zip(train_x, train_y))\n",
    "x, y = train_dset[100]\n",
    "x.shape, y.shape"
   ]
  },
  {
   "cell_type": "code",
   "execution_count": 8,
   "id": "e28ba7cf",
   "metadata": {},
   "outputs": [],
   "source": [
    "valid_zeros = (path/'testing'/'0').ls().sorted()\n",
    "valid_ones = (path/'testing'/'1').ls().sorted()\n",
    "valid_twos = (path/'testing'/'2').ls().sorted()\n",
    "valid_threes = (path/'testing'/'3').ls().sorted()\n",
    "valid_fours = (path/'testing'/'4').ls().sorted()\n",
    "valid_fives = (path/'testing'/'5').ls().sorted()\n",
    "valid_sixes = (path/'testing'/'6').ls().sorted()\n",
    "valid_sevens = (path/'testing'/'7').ls().sorted()\n",
    "valid_eights = (path/'testing'/'8').ls().sorted()\n",
    "valid_nines = (path/'testing'/'9').ls().sorted()"
   ]
  },
  {
   "cell_type": "code",
   "execution_count": 9,
   "id": "30508911",
   "metadata": {},
   "outputs": [],
   "source": [
    "valid_stacked_zeros = torch.stack([tensor(Image.open(o)) for o in valid_zeros]).float()/255\n",
    "valid_stacked_ones = torch.stack([tensor(Image.open(o)) for o in valid_ones]).float()/255\n",
    "valid_stacked_twos = torch.stack([tensor(Image.open(o)) for o in valid_twos]).float()/255\n",
    "valid_stacked_threes = torch.stack([tensor(Image.open(o)) for o in valid_threes]).float()/255\n",
    "valid_stacked_fours = torch.stack([tensor(Image.open(o)) for o in valid_fours]).float()/255\n",
    "valid_stacked_fives = torch.stack([tensor(Image.open(o)) for o in valid_fives]).float()/255\n",
    "valid_stacked_sixes = torch.stack([tensor(Image.open(o)) for o in valid_sixes]).float()/255\n",
    "valid_stacked_sevens = torch.stack([tensor(Image.open(o)) for o in valid_sevens]).float()/255\n",
    "valid_stacked_eights = torch.stack([tensor(Image.open(o)) for o in valid_eights]).float()/255\n",
    "valid_stacked_nines = torch.stack([tensor(Image.open(o)) for o in valid_nines]).float()/255"
   ]
  },
  {
   "cell_type": "code",
   "execution_count": 10,
   "id": "49068a5a",
   "metadata": {},
   "outputs": [
    {
     "data": {
      "text/plain": [
       "(torch.Size([10000, 784]), torch.Size([10000, 1]))"
      ]
     },
     "execution_count": 10,
     "metadata": {},
     "output_type": "execute_result"
    }
   ],
   "source": [
    "valid_x = torch.cat([valid_stacked_zeros, valid_stacked_ones, valid_stacked_twos, valid_stacked_threes, valid_stacked_fours, valid_stacked_fives, valid_stacked_sixes, valid_stacked_sevens, valid_stacked_eights, valid_stacked_nines]).view(-1, 28*28)\n",
    "valid_y = tensor([0]*len(valid_zeros)+[1]*len(valid_ones)+[2]*len(valid_twos)+[3]*len(valid_threes)+[4]*len(valid_fours)+[5]*len(valid_fives)+[6]*len(valid_sixes)+[7]*len(valid_sevens)+[8]*len(valid_eights)+[9]*len(valid_nines)).unsqueeze(1)\n",
    "valid_x.shape, valid_y.shape"
   ]
  },
  {
   "cell_type": "code",
   "execution_count": 11,
   "id": "b96d278d",
   "metadata": {},
   "outputs": [],
   "source": [
    "valid_dset = list(zip(valid_x, valid_y))"
   ]
  },
  {
   "cell_type": "markdown",
   "id": "68fcf841",
   "metadata": {},
   "source": [
    "In the FastAI book, Jeremy explain a 7-step process that we gonna follow. The steps are as below;\n",
    "\n",
    "1. *Initialize* the weights.\n",
    "1. For each image, use these weights to *predict* the class.\n",
    "1. Based on these predictions, calculate how good the model is (its *loss*).\n",
    "1. Calculate the *gradient*, which measures for each weight, how changing that weight would change the loss\n",
    "1. *Step* (that is, change) all the weights based on that calculation.\n",
    "1. Go back to the step 2, and *repeat* the process.\n",
    "1. Iterate until you decide to *stop* the training process (for instance, because the model is good enough or you don't want to wait any longer)."
   ]
  },
  {
   "cell_type": "markdown",
   "id": "7dcdfa34",
   "metadata": {},
   "source": [
    "So first, we write a function to init the weights. "
   ]
  },
  {
   "cell_type": "code",
   "execution_count": 12,
   "id": "5acf923d",
   "metadata": {},
   "outputs": [],
   "source": [
    "def init_param(size, std=1.0): return (torch.randn(size)*std).requires_grad_()"
   ]
  },
  {
   "cell_type": "code",
   "execution_count": 13,
   "id": "cdf7c522",
   "metadata": {},
   "outputs": [
    {
     "data": {
      "text/plain": [
       "torch.Size([784, 10])"
      ]
     },
     "execution_count": 13,
     "metadata": {},
     "output_type": "execute_result"
    }
   ],
   "source": [
    "weights = init_param((28*28, 10))\n",
    "bias = init_param(10)\n",
    "weights.shape"
   ]
  },
  {
   "cell_type": "markdown",
   "id": "f6957410",
   "metadata": {},
   "source": [
    "In order to predict the class, we need a small model. So in the following function, we take the data as input and outputs the predictions."
   ]
  },
  {
   "cell_type": "code",
   "execution_count": 14,
   "id": "074948c5",
   "metadata": {},
   "outputs": [],
   "source": [
    "def linear1(xb): return xb@weights+bias"
   ]
  },
  {
   "cell_type": "markdown",
   "id": "4f86c7b3",
   "metadata": {},
   "source": [
    "Then, in the next step, we need a way to calculate the loss for the predictions. There are liple loss functions available depending on the application. In this case, we need a loss function that can compute the loss in a muti-categorical problem. Softmax is the most common loss function used in such cases. It requires all the predictions to sum to 1 and it tends to push the most likely activation to a much larger value compared to others.  "
   ]
  },
  {
   "cell_type": "code",
   "execution_count": 15,
   "id": "ccbcc580",
   "metadata": {},
   "outputs": [],
   "source": [
    "def softmax(x): return torch.exp(x)/torch.exp(x).sum(dim=1, keepdim=True)"
   ]
  },
  {
   "cell_type": "markdown",
   "id": "d9b092df",
   "metadata": {},
   "source": [
    "So now we define crossentropy loss to first apply softmax to the predictions and then to calculate the loss comparing them to the targets"
   ]
  },
  {
   "cell_type": "code",
   "execution_count": 16,
   "id": "a8f36ac7",
   "metadata": {},
   "outputs": [],
   "source": [
    "def crossentropy_loss(inputs, targets):\n",
    "    activations = softmax(inputs)\n",
    "    return -activations[range(inputs.shape[0]), targets].log().mean()"
   ]
  },
  {
   "cell_type": "markdown",
   "id": "ef458695",
   "metadata": {},
   "source": [
    "Okay now we create dataloader objects for both training and validation sets. Note that each data point is having 784 features (28 * 28) and a corresponding label."
   ]
  },
  {
   "cell_type": "code",
   "execution_count": 17,
   "id": "7275d82a",
   "metadata": {},
   "outputs": [
    {
     "data": {
      "text/plain": [
       "(torch.Size([256, 784]), torch.Size([256, 1]))"
      ]
     },
     "execution_count": 17,
     "metadata": {},
     "output_type": "execute_result"
    }
   ],
   "source": [
    "dl = DataLoader(train_dset, batch_size=256)\n",
    "xb,yb = first(dl)\n",
    "xb.shape, yb.shape"
   ]
  },
  {
   "cell_type": "code",
   "execution_count": 18,
   "id": "5d686449",
   "metadata": {},
   "outputs": [],
   "source": [
    "valid_dl = DataLoader(valid_dset, batch_size=256)"
   ]
  },
  {
   "cell_type": "markdown",
   "id": "8fa3425a",
   "metadata": {},
   "source": [
    "Let's grab a subset of the training set and get their predictions "
   ]
  },
  {
   "cell_type": "code",
   "execution_count": 19,
   "id": "66b2f7ea",
   "metadata": {},
   "outputs": [
    {
     "data": {
      "text/plain": [
       "torch.Size([4, 784])"
      ]
     },
     "execution_count": 19,
     "metadata": {},
     "output_type": "execute_result"
    }
   ],
   "source": [
    "batch = train_x[:4]\n",
    "batch.shape"
   ]
  },
  {
   "cell_type": "markdown",
   "id": "70fc7ae6",
   "metadata": {},
   "source": [
    "Note that for each input, there are 10 outputs. Once we input them to the softmax loss function, it outputs those 10 values in a way that they add up to 1 with the most probable labels with higher values."
   ]
  },
  {
   "cell_type": "code",
   "execution_count": 20,
   "id": "20ee77ff",
   "metadata": {},
   "outputs": [
    {
     "data": {
      "text/plain": [
       "torch.Size([4, 10])"
      ]
     },
     "execution_count": 20,
     "metadata": {},
     "output_type": "execute_result"
    }
   ],
   "source": [
    "preds = linear1(batch)\n",
    "preds.shape"
   ]
  },
  {
   "cell_type": "code",
   "execution_count": 21,
   "id": "ca766c39",
   "metadata": {},
   "outputs": [
    {
     "data": {
      "text/plain": [
       "tensor(16.7473, grad_fn=<NegBackward0>)"
      ]
     },
     "execution_count": 21,
     "metadata": {},
     "output_type": "execute_result"
    }
   ],
   "source": [
    "loss = crossentropy_loss(preds, train_y[:4])\n",
    "loss"
   ]
  },
  {
   "cell_type": "code",
   "execution_count": 22,
   "id": "9e976e94",
   "metadata": {},
   "outputs": [
    {
     "data": {
      "text/plain": [
       "(torch.Size([784, 10]),\n",
       " tensor(2.4328e-10),\n",
       " tensor([-9.9999e-01,  7.6655e-01,  1.7359e-07,  5.4389e-04,  5.4135e-02,\n",
       "          3.6396e-07,  1.7450e-01,  4.2626e-03,  3.9071e-06,  2.6428e-07]))"
      ]
     },
     "execution_count": 22,
     "metadata": {},
     "output_type": "execute_result"
    }
   ],
   "source": [
    "loss.backward()\n",
    "weights.grad.shape,weights.grad.mean(),bias.grad"
   ]
  },
  {
   "cell_type": "markdown",
   "id": "8d4087a5",
   "metadata": {},
   "source": [
    "Now we put all the steps together to calculate the gradients"
   ]
  },
  {
   "cell_type": "code",
   "execution_count": 23,
   "id": "bb2c6f84",
   "metadata": {},
   "outputs": [],
   "source": [
    "def calc_grad(xb, yb, model):\n",
    "    preds = model(xb)\n",
    "    loss = crossentropy_loss(preds, yb)\n",
    "    loss.backward()"
   ]
  },
  {
   "cell_type": "markdown",
   "id": "017b2244",
   "metadata": {},
   "source": [
    "Next we define the following function to train our model for a single epoch. It will take each batch from the data loader and will calculate the gradients. Then it will update the weights accordingly"
   ]
  },
  {
   "cell_type": "code",
   "execution_count": 24,
   "id": "4292418e",
   "metadata": {},
   "outputs": [],
   "source": [
    "def train_epoch(model, lr, param):\n",
    "    for xb, yb in dl:\n",
    "        calc_grad(xb, yb, model)\n",
    "        for p in params:\n",
    "            p.data -= p.grad*lr\n",
    "            p.grad.zero_()"
   ]
  },
  {
   "cell_type": "markdown",
   "id": "5e1aa6a6",
   "metadata": {},
   "source": [
    "Finally, we can package them allto train for multiple epochs"
   ]
  },
  {
   "cell_type": "code",
   "execution_count": 25,
   "id": "e3f35319",
   "metadata": {},
   "outputs": [],
   "source": [
    "def train_model(model,lr, param, epochs):\n",
    "    val_acc = []\n",
    "    for i in range (epochs):\n",
    "        train_epoch(model, lr, param)\n",
    "        val_acc.append(validate_epoch(model))\n",
    "    return val_acc"
   ]
  },
  {
   "cell_type": "markdown",
   "id": "dcc38c37",
   "metadata": {},
   "source": [
    "We also define functions to calculate train and validation accuracies."
   ]
  },
  {
   "cell_type": "code",
   "execution_count": 26,
   "id": "3a6c54b2",
   "metadata": {},
   "outputs": [],
   "source": [
    "def batch_accuracy(preds,yb):\n",
    "    correct=preds.max(axis=1)[1]==yb\n",
    "    return correct.float().mean()"
   ]
  },
  {
   "cell_type": "code",
   "execution_count": 27,
   "id": "d8fe001b",
   "metadata": {},
   "outputs": [],
   "source": [
    "def validate_epoch(model):\n",
    "    accs = [batch_accuracy(model(xb), yb) for xb, yb in valid_dl]\n",
    "    return round(torch.stack(accs).mean().item(), 4)"
   ]
  },
  {
   "cell_type": "code",
   "execution_count": 29,
   "id": "9404ce4f",
   "metadata": {},
   "outputs": [
    {
     "data": {
      "text/plain": [
       "([<matplotlib.lines.Line2D at 0x7f7b07cfe5f0>], 0.621)"
      ]
     },
     "execution_count": 29,
     "metadata": {},
     "output_type": "execute_result"
    },
    {
     "data": {
      "image/png": "[encoded data removed]",
      "text/plain": [
       "<Figure size 640x480 with 1 Axes>"
      ]
     },
     "metadata": {},
     "output_type": "display_data"
    }
   ],
   "source": [
    "weights = init_param((28*28, 10))\n",
    "bias = init_param(10)\n",
    "params = weights,bias\n",
    "lr = 1e-1\n",
    "val_acc=(train_model(linear1, lr, params, 100))\n",
    "plt.plot(range(100), val_acc), val_acc[-1]"
   ]
  },
  {
   "cell_type": "markdown",
   "id": "2bee4523",
   "metadata": {},
   "source": [
    "So our simple neural network is capable of classifying digits with a validation accuracy of 0.621"
   ]
  }
 ],
 "metadata": {
  "kernelspec": {
   "display_name": "Python 3 (ipykernel)",
   "language": "python",
   "name": "python3"
  },
  "language_info": {
   "codemirror_mode": {
    "name": "ipython",
    "version": 3
   },
   "file_extension": ".py",
   "mimetype": "text/x-python",
   "name": "python",
   "nbconvert_exporter": "python",
   "pygments_lexer": "ipython3",
   "version": "3.10.4"
  }
 },
 "nbformat": 4,
 "nbformat_minor": 5
}
