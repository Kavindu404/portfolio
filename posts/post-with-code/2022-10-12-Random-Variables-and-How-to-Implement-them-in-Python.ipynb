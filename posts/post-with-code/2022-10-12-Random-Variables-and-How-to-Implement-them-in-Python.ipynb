{
 "cells": [
  {
   "cell_type": "markdown",
   "id": "f86a6107",
   "metadata": {},
   "source": [
    "# Random Variables"
   ]
  },
  {
   "cell_type": "markdown",
   "id": "1c797d38",
   "metadata": {},
   "source": [
    "In this blog, I am trying to give an introduction to random variables and follow up with an implementation of random numbers in python."
   ]
  },
  {
   "cell_type": "markdown",
   "id": "4ec274d7",
   "metadata": {},
   "source": [
    "But first, **what is a random variable?**"
   ]
  },
  {
   "cell_type": "markdown",
   "id": "7bd4eb9e",
   "metadata": {},
   "source": [
    "There are multip definitions to random variables depending on the context. The main purpose of using random variables are so that we can define certain probability functions to make it convinient and easy to compute the probabilitiesf certain events. Consider a random experiment with a sample space $\\Gamma $"
   ]
  },
  {
   "cell_type": "markdown",
   "id": "ab8feebe",
   "metadata": {},
   "source": [
    "A random variable X($\\xi$) is a single valued real function that assigns a real number to each sample point $\\xi$ of $\\Gamma$. In other words, a random variable is **not a variable but a function**. Okay, let's take a simple example."
   ]
  },
  {
   "cell_type": "markdown",
   "id": "7cd3536d",
   "metadata": {},
   "source": [
    "Imagine a toss of a coin and we only do it once. Now, we can define a random variable X as below;\n"
   ]
  },
  {
   "cell_type": "markdown",
   "id": "9d3fea01",
   "metadata": {},
   "source": [
    "                        X(H) = 1, X(T) = 0"
   ]
  },
  {
   "cell_type": "markdown",
   "id": "5a7c3bd4",
   "metadata": {},
   "source": [
    "What just happened there? Let's breakit down. Now, our sample space $\\Gamma$ consist of two random events; H and T, where H is for heads and T is for tails. So, our random variable X is just a function that assigns real values for those events. Let's define two other random variables Y, and Z. We can define them as below;"
   ]
  },
  {
   "cell_type": "markdown",
   "id": "ba6d3fef",
   "metadata": {},
   "source": [
    "                        Y(H) = 0, Y(T) = 1\n",
    "                        Z(H) = 0, Z(T) = 0"
   ]
  },
  {
   "cell_type": "markdown",
   "id": "28eeb7bd",
   "metadata": {},
   "source": [
    "So finally, if X is arandom variable and x is a fixed number, we can define the event (X=x) as:\n",
    "\n",
    "(X = x) = {$\\xi$: X($\\xi$) = x}\n",
    "\n",
    "which is read as a set of all the events in a particular sample space such that X($\\xi$) is equal to x. One other thing to notice is that each random variable has its own distribution and they assign real values according to their respective distriutions."
   ]
  },
  {
   "cell_type": "markdown",
   "id": "2808287f",
   "metadata": {},
   "source": [
    "So, now with the background knowledge of the random variables, let's see how to generate random numbers in python. Random generators in python are like random variables. Each time we call them, they give us a real value."
   ]
  },
  {
   "cell_type": "markdown",
   "id": "44e7603d",
   "metadata": {},
   "source": [
    "However, unfortunately, there is no way of creating random numbers with software, rather we generate pseudo random numbers. Pseudo random number generators are used to generate lots and lots of random numbers rather than just one random number. The following implementation of the randomnumber generator is based on Wichmann Hill algorithm."
   ]
  },
  {
   "cell_type": "markdown",
   "id": "fb394cc6",
   "metadata": {},
   "source": [
    "A pseudo number generator is a mathematical function that we can call and each time we call it, it will generate a number that looks random. "
   ]
  },
  {
   "cell_type": "code",
   "execution_count": 1,
   "id": "383c68da",
   "metadata": {},
   "outputs": [],
   "source": [
    "rnd_state = None\n",
    "\n",
    "def seed(a):\n",
    "    global rnd_state\n",
    "    a, x = divmod(a, 30268)\n",
    "    a, y = divmod(a, 30306)\n",
    "    a, z = divmod(a, 30322)\n",
    "    rnd_state = int(x)+1, int(y)+1, int(z)+1"
   ]
  },
  {
   "cell_type": "markdown",
   "id": "833a2090",
   "metadata": {},
   "source": [
    "The key thing to understand here is the global variable _rnd_state_. Let's get some outputs for _rnd_state_;"
   ]
  },
  {
   "cell_type": "code",
   "execution_count": 2,
   "id": "1f923edb",
   "metadata": {},
   "outputs": [
    {
     "data": {
      "text/plain": [
       "(543, 10388, 5335)"
      ]
     },
     "execution_count": 2,
     "metadata": {},
     "output_type": "execute_result"
    }
   ],
   "source": [
    "seed(76216435476523170)\n",
    "rnd_state"
   ]
  },
  {
   "cell_type": "markdown",
   "id": "4dd523f8",
   "metadata": {},
   "source": [
    "_rnd-state_ now contains three numbers.The seed we passed here is just a random seed that I smashed on the keyboard. Now, we pass this _rnd_state_ to the following function that generates pseudo random numbers."
   ]
  },
  {
   "cell_type": "code",
   "execution_count": 3,
   "id": "cbc73648",
   "metadata": {},
   "outputs": [],
   "source": [
    "def rand():\n",
    "    global rnd_state\n",
    "    x, y, z = rnd_state\n",
    "    x = (171 * x) % 30269\n",
    "    y = (172 * y) % 30307\n",
    "    z = (170 * z) % 30323\n",
    "    rnd_state = x, y, z\n",
    "    return (x/30269 + y/30307 + z/30323) % 1.0"
   ]
  },
  {
   "cell_type": "markdown",
   "id": "a50a7318",
   "metadata": {},
   "source": [
    "Now we can call the rand() function multiple times and it will generate different pseudo random numbers each time;"
   ]
  },
  {
   "cell_type": "code",
   "execution_count": 4,
   "id": "ba80befa",
   "metadata": {},
   "outputs": [
    {
     "data": {
      "text/plain": [
       "(0.931798407488099, 0.3824530849180521, 0.9459261819993035)"
      ]
     },
     "execution_count": 4,
     "metadata": {},
     "output_type": "execute_result"
    }
   ],
   "source": [
    "rand(), rand(), rand()"
   ]
  },
  {
   "cell_type": "markdown",
   "id": "afae1bb9",
   "metadata": {},
   "source": [
    "So now we have a pseudo random number generator that we can call to generate random numbers!!!!!"
   ]
  },
  {
   "cell_type": "markdown",
   "id": "50671d7b",
   "metadata": {},
   "source": [
    "Let's check whether we get different numbers if we call say 50 times."
   ]
  },
  {
   "cell_type": "code",
   "execution_count": 5,
   "id": "4e2b8c73",
   "metadata": {},
   "outputs": [],
   "source": [
    "from matplotlib import pyplot as plt"
   ]
  },
  {
   "cell_type": "code",
   "execution_count": 6,
   "id": "e985ee3d",
   "metadata": {},
   "outputs": [
    {
     "data": {
      "text/plain": [
       "[<matplotlib.lines.Line2D at 0x7fa23f5c5e50>]"
      ]
     },
     "execution_count": 6,
     "metadata": {},
     "output_type": "execute_result"
    },
    {
     "data": {
      "image/png": "[encoded data removed]",
      "text/plain": [
       "<Figure size 432x288 with 1 Axes>"
      ]
     },
     "metadata": {
      "needs_background": "light"
     },
     "output_type": "display_data"
    }
   ],
   "source": [
    "plt.plot([rand() for _ in range(50)])"
   ]
  },
  {
   "cell_type": "markdown",
   "id": "ed8b4cf0",
   "metadata": {},
   "source": [
    "It does!! One other thing to notice is that all the random numebrs are normalized to 1. If you take a closer look at the return statement in the rand() function,you will see that we take the modulo of 1 which makes sense for the generated results. So, if our function works, if we plot the histogram of results for a lots and lots of generated numbers, it should contain all the values between 0 and 1. Let's see that as well;"
   ]
  },
  {
   "cell_type": "code",
   "execution_count": 7,
   "id": "08b52859",
   "metadata": {},
   "outputs": [
    {
     "data": {
      "text/plain": [
       "(array([ 99852.,  99946., 100376., 100087.,  99555.,  99533., 100245.,\n",
       "        100235.,  99813., 100358.]),\n",
       " array([1.24317537e-07, 1.00000093e-01, 2.00000062e-01, 3.00000031e-01,\n",
       "        4.00000000e-01, 4.99999969e-01, 5.99999938e-01, 6.99999907e-01,\n",
       "        7.99999876e-01, 8.99999845e-01, 9.99999814e-01]),\n",
       " <a list of 10 Patch objects>)"
      ]
     },
     "execution_count": 7,
     "metadata": {},
     "output_type": "execute_result"
    },
    {
     "data": {
      "image/png": "[encoded data removed]",
      "text/plain": [
       "<Figure size 432x288 with 1 Axes>"
      ]
     },
     "metadata": {
      "needs_background": "light"
     },
     "output_type": "display_data"
    }
   ],
   "source": [
    "plt.hist([rand() for _ in range (1000000)])"
   ]
  },
  {
   "cell_type": "markdown",
   "id": "96265f64",
   "metadata": {},
   "source": [
    "Hoorayyy!! It works too!!!"
   ]
  }
 ],
 "metadata": {
  "kernelspec": {
   "display_name": "Python 3 (ipykernel)",
   "language": "python",
   "name": "python3"
  },
  "language_info": {
   "codemirror_mode": {
    "name": "ipython",
    "version": 3
   },
   "file_extension": ".py",
   "mimetype": "text/x-python",
   "name": "python",
   "nbconvert_exporter": "python",
   "pygments_lexer": "ipython3",
   "version": "3.8.10"
  }
 },
 "nbformat": 4,
 "nbformat_minor": 5
}
